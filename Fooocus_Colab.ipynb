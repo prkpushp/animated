{
  "cells": [
    {
      "cell_type": "code",
      "execution_count": null,
      "metadata": {},
      "outputs": [],
      "source": [
        "!pip install pygit2==1.15.1"
      ]
    },
    {
      "cell_type": "code",
      "execution_count": null,
      "metadata": {},
      "outputs": [],
      "source": [
        "%cd /content"
      ]
    },
    {
      "cell_type": "code",
      "execution_count": null,
      "metadata": {},
      "outputs": [],
      "source": [
        "!git clone https://github.com/lllyasviel/Fooocus.git"
      ]
    },
    {
      "cell_type": "code",
      "execution_count": null,
      "metadata": {},
      "outputs": [],
      "source": [
        "%cd /content/Fooocus"
      ]
    },
    {
      "cell_type": "code",
      "execution_count": null,
      "metadata": {},
      "outputs": [],
      "source": [
        "!python entry_with_update.py --share --always-high-vram | tee output.txt"
      ]
    },
    {
      "cell_type": "code",
      "execution_count": null,
      "metadata": {},
      "outputs": [],
      "source": [
        "import re\n",
        "with open(\"output.txt\", \"r\") as f:\n",
        "    content = f.read()\n",
        "match = re.search(r'(https://[a-z0-9\\-]+\\.gradio\\.live)', content)\n",
        "if match:\n",
        "    with open(\"gradio_url.txt\", \"w\") as f:\n",
        "        f.write(match.group(1))\n",
        "else:\n",
        "    with open(\"gradio_url.txt\", \"w\") as f:\n",
        "        f.write(\"Gradio URL not found.\")"
      ]
    }
  ],
  "metadata": {
    "colab": {
      "name": "Fooocus_Colab.ipynb",
      "provenance": []
    },
    "kernelspec": {
      "display_name": "Python 3",
      "language": "python",
      "name": "python3"
    },
    "language_info": {
      "name": "python"
    }
  },
  "nbformat": 4,
  "nbformat_minor": 0
}
