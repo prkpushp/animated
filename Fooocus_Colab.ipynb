{
  "cells": [
    {
      "cell_type": "code",
      "execution_count": null,
      "metadata": {},
      "outputs": [],
      "source": [
        "!pip install pygit2==1.15.1"
      ]
    },
    {
      "cell_type": "code",
      "execution_count": null,
      "metadata": {},
      "outputs": [],
      "source": [
        "%cd /content"
      ]
    },
    {
      "cell_type": "code",
      "execution_count": null,
      "metadata": {},
      "outputs": [],
      "source": [
        "!git clone https://github.com/lllyasviel/Fooocus.git"
      ]
    },
    {
      "cell_type": "code",
      "execution_count": null,
      "metadata": {},
      "outputs": [],
      "source": [
        "%cd /content/Fooocus"
      ]
    },
    {
      "cell_type": "code",
      "execution_count": null,
      "metadata": {},
      "outputs": [],
      "source": [
        "!python entry_with_update.py --share --always-high-vram | tee output.txt"
      ]
    },
    {
      "cell_type": "code",
      "execution_count": null,
      "metadata": {},
      "outputs": [],
      "source": [
        "import re\n",
        "with open(\"output.txt\", \"r\") as f:\n",
        "    content = f.read()\n",
        "match = re.search(r'(https://[a-z0-9\\-]+\\.gradio\\.live)', content)\n",
        "if match:\n",
        "    with open(\"gradio_url.txt\", \"w\") as f:\n",
        "        f.write(match.group(1))\n",
        "else:\n",
        "    with open(\"gradio_url.txt\", \"w\") as f:\n",
        "        f.write(\"Gradio URL not found.\")"
      ]
    },
    {
      "cell_type": "code",
      "execution_count": null,
      "metadata": {},
      "outputs": [],
      "source": [
        "import os\n",
        "gh_pat = os.getenv(\"GH_PAT\")\n",
        "if not gh_pat:\n",
        "    raise Exception(\"GH_PAT environment variable not found. Make sure it's set in GitHub Actions secrets.\")\n",
        "\n",
        "# Git config\n",
        "!git config --global user.email \"colab-bot@fooocus.com\"\n",
        "!git config --global user.name \"colab-bot\"\n",
        "\n",
        "# Clone the repo and push the result\n",
        "!git clone https://{gh_pat}@github.com/prkpushp/animated.git\n",
        "!cp gradio_url.txt animated/\n",
        "%cd animated\n",
        "!git add gradio_url.txt\n",
        "!git commit -m \"Auto: add Gradio URL\"\n",
        "!git push"
      ]
    }
  ],
  "metadata": {
    "colab": {
      "name": "Fooocus_Colab.ipynb",
      "provenance": []
    },
    "kernelspec": {
      "display_name": "Python 3",
      "language": "python",
      "name": "python3"
    },
    "language_info": {
      "name": "python"
    }
  },
  "nbformat": 4,
  "nbformat_minor": 0
}
